{
 "cells": [
  {
   "cell_type": "markdown",
   "metadata": {},
   "source": [
    "# Scraping Concerts - Lab\n",
    "\n",
    "## Introduction\n",
    "\n",
    "Now that you've seen how to scrape a simple website, it's time to again practice those skills on a full-fledged site!\n",
    "In this lab, you'll practice your scraping skills on a music website: https://www.residentadvisor.net.\n",
    "## Objectives\n",
    "\n",
    "You will be able to:\n",
    "* Create a full scraping pipeline that involves traversing over many pages of a website, dealing with errors and storing data"
   ]
  },
  {
   "cell_type": "markdown",
   "metadata": {},
   "source": [
    "## View the Website\n",
    "\n",
    "For this lab, you'll be scraping the https://www.residentadvisor.net website. Start by navigating to the events page [here](https://www.residentadvisor.net/events) in your browser.\n",
    "\n",
    "<img src=\"images/ra.png\">"
   ]
  },
  {
   "cell_type": "code",
   "execution_count": null,
   "metadata": {},
   "outputs": [],
   "source": [
    "# Load the https://www.residentadvisor.net/events page in your browser."
   ]
  },
  {
   "cell_type": "markdown",
   "metadata": {},
   "source": [
    "## Open the Inspect Element Feature\n",
    "\n",
    "Next, open the inspect element feature from your web browser in order to preview the underlying HTML associated with the page."
   ]
  },
  {
   "cell_type": "code",
   "execution_count": null,
   "metadata": {},
   "outputs": [],
   "source": [
    "# Open the inspect element feature in your browser"
   ]
  },
  {
   "cell_type": "markdown",
   "metadata": {},
   "source": [
    "#### Neha:\n",
    "Importing all necessary libraries"
   ]
  },
  {
   "cell_type": "code",
   "execution_count": 1,
   "metadata": {},
   "outputs": [],
   "source": [
    "import pandas as pd\n",
    "import requests\n",
    "from bs4 import BeautifulSoup\n",
    "import re\n",
    "import shutil\n",
    "import matplotlib.pyplot as plt\n",
    "import matplotlib.image as mpimg\n",
    "from IPython.display import Image, HTML"
   ]
  },
  {
   "cell_type": "markdown",
   "metadata": {},
   "source": [
    "## Write a Function to Scrape all of the Events on the Given Page Events Page\n",
    "\n",
    "The function should return a Pandas DataFrame with columns for the Event_Name, Venue, Event_Date and Number_of_Attendees."
   ]
  },
  {
   "cell_type": "code",
   "execution_count": 3,
   "metadata": {},
   "outputs": [],
   "source": [
    "html_page = requests.get('https://www.residentadvisor.net/events/us/newyork')\n",
    "soup = BeautifulSoup(html_page.content, 'html.parser')"
   ]
  },
  {
   "cell_type": "code",
   "execution_count": 42,
   "metadata": {},
   "outputs": [],
   "source": [
    "main_container = soup.find('ul', id='items')"
   ]
  },
  {
   "cell_type": "code",
   "execution_count": 43,
   "metadata": {},
   "outputs": [
    {
     "data": {
      "text/plain": [
       "<time datetime=\"2020-05-15T00:00\" itemprop=\"startDate\">2020-05-15T00:00</time>"
      ]
     },
     "execution_count": 43,
     "metadata": {},
     "output_type": "execute_result"
    }
   ],
   "source": [
    "events_container = main_container.findAll('article', class_=\"event-item clearfix tickets-bkg-logo\")\n",
    "events_container[0].find('time')"
   ]
  },
  {
   "cell_type": "code",
   "execution_count": 158,
   "metadata": {},
   "outputs": [
    {
     "data": {
      "text/plain": [
       "'2020-05-17'"
      ]
     },
     "execution_count": 158,
     "metadata": {},
     "output_type": "execute_result"
    }
   ],
   "source": [
    "event_date = events_container[8].find('time').attrs['datetime'][:-6]\n",
    "event_date"
   ]
  },
  {
   "cell_type": "code",
   "execution_count": 59,
   "metadata": {},
   "outputs": [
    {
     "data": {
      "text/plain": [
       "'Event details of Spacecraft'"
      ]
     },
     "execution_count": 59,
     "metadata": {},
     "output_type": "execute_result"
    }
   ],
   "source": [
    "event_name = events_container[0].find('a', itemprop=\"url\").attrs['title']\n",
    "event_name"
   ]
  },
  {
   "cell_type": "code",
   "execution_count": 123,
   "metadata": {},
   "outputs": [
    {
     "data": {
      "text/plain": [
       "'TBA - New York'"
      ]
     },
     "execution_count": 123,
     "metadata": {},
     "output_type": "execute_result"
    }
   ],
   "source": [
    "event_venue = events_container[0].find('span', class_=\"grey\").text\n",
    "event_venue"
   ]
  },
  {
   "cell_type": "code",
   "execution_count": 132,
   "metadata": {},
   "outputs": [
    {
     "data": {
      "text/plain": [
       "'Skyport Marina'"
      ]
     },
     "execution_count": 132,
     "metadata": {},
     "output_type": "execute_result"
    }
   ],
   "source": [
    "events_container[1].find('h1', class_=\"event-title\").find('span').find('a').text"
   ]
  },
  {
   "cell_type": "code",
   "execution_count": 64,
   "metadata": {},
   "outputs": [
    {
     "data": {
      "text/plain": [
       "'2'"
      ]
     },
     "execution_count": 64,
     "metadata": {},
     "output_type": "execute_result"
    }
   ],
   "source": [
    "attendees = events_container[0].find('p', class_=\"attending\").find('span').text\n",
    "attendees"
   ]
  },
  {
   "cell_type": "code",
   "execution_count": 152,
   "metadata": {},
   "outputs": [
    {
     "data": {
      "text/plain": [
       "<article class=\"event-item clearfix tickets-bkg-logo\" itemscope=\"\" itemtype=\"http://data-vocabulary.org/Event\"><a href=\"/events/1399517#tickets\"><img class=\"nohide\" src=\"https://residentadvisor.net/images/ra-tix.png\" style=\"height: 23px; width: 40px; right: 0px; position: absolute; top: 1px;\"/></a><span style=\"display:none;\"><time datetime=\"2020-05-16T00:00\" itemprop=\"startDate\">2020-05-16T00:00</time></span><a href=\"/events/1399517\"><img height=\"76\" src=\"/images/events/flyer/2020/5/us-0516-1399517-list.jpg\" width=\"152\"/></a><div class=\"bbox\"><h1 class=\"event-title\" itemprop=\"summary\"><a href=\"/events/1399517\" itemprop=\"url\" title=\"Event details of Higher Level: Richie Hawtin, Charlotte de Witte &amp; More - Postponed\">Higher Level: Richie Hawtin, Charlotte de Witte &amp; More - Postponed</a> <span>at <a href=\"/club.aspx?id=141127\">Avant Gardner</a></span></h1><div class=\"grey event-lineup\">Richie Hawtin, Charlotte de Witte, Octave One live, A-Z, Anastasia Kristensen, CLARA 3000, Fadi Mohem, Lauren Flax, Matador b2b Gaiser, Matrixxman, ONYVAA live, Randomer, Veronica Vasicka</div><p class=\"attending\"><span>70</span> Attending</p></div></article>"
      ]
     },
     "execution_count": 152,
     "metadata": {},
     "output_type": "execute_result"
    }
   ],
   "source": [
    "events_container[6]"
   ]
  },
  {
   "cell_type": "code",
   "execution_count": 140,
   "metadata": {},
   "outputs": [
    {
     "data": {
      "text/plain": [
       "<h1 class=\"event-title\" itemprop=\"summary\"><a href=\"/events/1398647\" itemprop=\"url\" title=\"Event details of NYC Hip Hop vs. Reggae ® Yacht Party Cabana Yacht 2020\">NYC Hip Hop vs. Reggae ® Yacht Party Cabana Yacht 2020</a> <span>at <a href=\"/club.aspx?id=104916\">Skyport Marina</a></span></h1>"
      ]
     },
     "execution_count": 140,
     "metadata": {},
     "output_type": "execute_result"
    }
   ],
   "source": [
    "main_container.findAll('h1', class_=\"event-title\")[1]"
   ]
  },
  {
   "cell_type": "code",
   "execution_count": 143,
   "metadata": {},
   "outputs": [
    {
     "data": {
      "text/plain": [
       "['NYC Hip Hop vs. Reggae ® Yacht Party Cabana Yacht 2020', 'Skyport Marina']"
      ]
     },
     "execution_count": 143,
     "metadata": {},
     "output_type": "execute_result"
    }
   ],
   "source": [
    "main_container.findAll('h1', class_=\"event-title\")[1].text.split(' at ')"
   ]
  },
  {
   "cell_type": "code",
   "execution_count": 129,
   "metadata": {},
   "outputs": [],
   "source": [
    "def scrape_events1(events_page_url):\n",
    "    #Your code here\n",
    "    html_page = requests.get(events_page_url)\n",
    "    soup = BeautifulSoup(html_page.content, 'html.parser')\n",
    "    main_container = soup.find('ul', id='items')\n",
    "    event_date = [e.find('time').attrs['datetime'][:-6] for e in events_container]\n",
    "    event_name = [n.find('a', itemprop=\"url\").attrs['title'] for n in events_container]\n",
    "    event_venue = [events_container[0].find('span', class_=\"grey\").text]+[v.find('h1', class_=\"event-title\").find('span').find('a').text for v in events_container[1:]]\n",
    "    attendees = [a.find('p', class_=\"attending\").find('span').text for a in events_container]\n",
    "    df = pd.DataFrame([event_name, event_venue, event_date, attendees]).transpose()\n",
    "    df.columns = [\"Event_Name\", \"Venue\", \"Event_Date\", \"Number_of_Attendees\"]\n",
    "    return df"
   ]
  },
  {
   "cell_type": "code",
   "execution_count": 130,
   "metadata": {},
   "outputs": [
    {
     "data": {
      "text/html": [
       "<div>\n",
       "<style scoped>\n",
       "    .dataframe tbody tr th:only-of-type {\n",
       "        vertical-align: middle;\n",
       "    }\n",
       "\n",
       "    .dataframe tbody tr th {\n",
       "        vertical-align: top;\n",
       "    }\n",
       "\n",
       "    .dataframe thead th {\n",
       "        text-align: right;\n",
       "    }\n",
       "</style>\n",
       "<table border=\"1\" class=\"dataframe\">\n",
       "  <thead>\n",
       "    <tr style=\"text-align: right;\">\n",
       "      <th></th>\n",
       "      <th>Event_Name</th>\n",
       "      <th>Venue</th>\n",
       "      <th>Event_Date</th>\n",
       "      <th>Number_of_Attendees</th>\n",
       "    </tr>\n",
       "  </thead>\n",
       "  <tbody>\n",
       "    <tr>\n",
       "      <td>0</td>\n",
       "      <td>Event details of Spacecraft</td>\n",
       "      <td>TBA - New York</td>\n",
       "      <td>2020-05-15</td>\n",
       "      <td>2</td>\n",
       "    </tr>\n",
       "    <tr>\n",
       "      <td>1</td>\n",
       "      <td>Event details of NYC Hip Hop vs. Reggae ® Yach...</td>\n",
       "      <td>Skyport Marina</td>\n",
       "      <td>2020-05-15</td>\n",
       "      <td>1</td>\n",
       "    </tr>\n",
       "    <tr>\n",
       "      <td>2</td>\n",
       "      <td>Event details of [POSTPONED] Tale Of Us</td>\n",
       "      <td>Knockdown Center</td>\n",
       "      <td>2020-05-15</td>\n",
       "      <td>302</td>\n",
       "    </tr>\n",
       "    <tr>\n",
       "      <td>3</td>\n",
       "      <td>Event details of [POSTPONED] Derrick Carter, D...</td>\n",
       "      <td>Webster Hall</td>\n",
       "      <td>2020-05-16</td>\n",
       "      <td>31</td>\n",
       "    </tr>\n",
       "    <tr>\n",
       "      <td>4</td>\n",
       "      <td>Event details of LPR Presents: Netherfriends</td>\n",
       "      <td>The Broadway</td>\n",
       "      <td>2020-05-16</td>\n",
       "      <td>1</td>\n",
       "    </tr>\n",
       "    <tr>\n",
       "      <td>5</td>\n",
       "      <td>Event details of [POSTPONED] Teksupport: Sven ...</td>\n",
       "      <td>The 1896</td>\n",
       "      <td>2020-05-16</td>\n",
       "      <td>107</td>\n",
       "    </tr>\n",
       "    <tr>\n",
       "      <td>6</td>\n",
       "      <td>Event details of Higher Level: Richie Hawtin, ...</td>\n",
       "      <td>Avant Gardner</td>\n",
       "      <td>2020-05-16</td>\n",
       "      <td>70</td>\n",
       "    </tr>\n",
       "    <tr>\n",
       "      <td>7</td>\n",
       "      <td>Event details of [CANCELLED] Elevation: Season...</td>\n",
       "      <td>House Of Yes</td>\n",
       "      <td>2020-05-16</td>\n",
       "      <td>5</td>\n",
       "    </tr>\n",
       "    <tr>\n",
       "      <td>8</td>\n",
       "      <td>Event details of Boris Brejcha - Postponed</td>\n",
       "      <td>Brooklyn Mirage</td>\n",
       "      <td>2020-05-17</td>\n",
       "      <td>110</td>\n",
       "    </tr>\n",
       "  </tbody>\n",
       "</table>\n",
       "</div>"
      ],
      "text/plain": [
       "                                          Event_Name             Venue  \\\n",
       "0                        Event details of Spacecraft    TBA - New York   \n",
       "1  Event details of NYC Hip Hop vs. Reggae ® Yach...    Skyport Marina   \n",
       "2            Event details of [POSTPONED] Tale Of Us  Knockdown Center   \n",
       "3  Event details of [POSTPONED] Derrick Carter, D...      Webster Hall   \n",
       "4       Event details of LPR Presents: Netherfriends      The Broadway   \n",
       "5  Event details of [POSTPONED] Teksupport: Sven ...          The 1896   \n",
       "6  Event details of Higher Level: Richie Hawtin, ...     Avant Gardner   \n",
       "7  Event details of [CANCELLED] Elevation: Season...      House Of Yes   \n",
       "8         Event details of Boris Brejcha - Postponed   Brooklyn Mirage   \n",
       "\n",
       "   Event_Date Number_of_Attendees  \n",
       "0  2020-05-15                   2  \n",
       "1  2020-05-15                   1  \n",
       "2  2020-05-15                 302  \n",
       "3  2020-05-16                  31  \n",
       "4  2020-05-16                   1  \n",
       "5  2020-05-16                 107  \n",
       "6  2020-05-16                  70  \n",
       "7  2020-05-16                   5  \n",
       "8  2020-05-17                 110  "
      ]
     },
     "execution_count": 130,
     "metadata": {},
     "output_type": "execute_result"
    }
   ],
   "source": [
    "scrape_events1('https://www.residentadvisor.net/events/us/newyork')"
   ]
  },
  {
   "cell_type": "markdown",
   "metadata": {},
   "source": [
    "OR"
   ]
  },
  {
   "cell_type": "code",
   "execution_count": 144,
   "metadata": {},
   "outputs": [],
   "source": [
    "def scrape_events(events_page_url):\n",
    "    #Your code here\n",
    "    html_page = requests.get(events_page_url)\n",
    "    soup = BeautifulSoup(html_page.content, 'html.parser')\n",
    "    main_container = soup.find('ul', id='items')\n",
    "    event_date = [e.find('time').attrs['datetime'][:-6] for e in events_container]\n",
    "    event_name = [n.text.split(' at ')[0] for n in main_container.findAll('h1', class_=\"event-title\")]\n",
    "    event_venue = [n.text.split(' at ')[1] for n in main_container.findAll('h1', class_=\"event-title\")]\n",
    "    attendees = [a.find('p', class_=\"attending\").find('span').text for a in events_container]\n",
    "    df = pd.DataFrame([event_name, event_venue, event_date, attendees]).transpose()\n",
    "    df.columns = [\"Event_Name\", \"Venue\", \"Event_Date\", \"Number_of_Attendees\"]\n",
    "    return df"
   ]
  },
  {
   "cell_type": "code",
   "execution_count": 145,
   "metadata": {},
   "outputs": [
    {
     "data": {
      "text/html": [
       "<div>\n",
       "<style scoped>\n",
       "    .dataframe tbody tr th:only-of-type {\n",
       "        vertical-align: middle;\n",
       "    }\n",
       "\n",
       "    .dataframe tbody tr th {\n",
       "        vertical-align: top;\n",
       "    }\n",
       "\n",
       "    .dataframe thead th {\n",
       "        text-align: right;\n",
       "    }\n",
       "</style>\n",
       "<table border=\"1\" class=\"dataframe\">\n",
       "  <thead>\n",
       "    <tr style=\"text-align: right;\">\n",
       "      <th></th>\n",
       "      <th>Event_Name</th>\n",
       "      <th>Venue</th>\n",
       "      <th>Event_Date</th>\n",
       "      <th>Number_of_Attendees</th>\n",
       "    </tr>\n",
       "  </thead>\n",
       "  <tbody>\n",
       "    <tr>\n",
       "      <td>0</td>\n",
       "      <td>Spacecraft</td>\n",
       "      <td>TBA - New York</td>\n",
       "      <td>2020-05-15</td>\n",
       "      <td>2</td>\n",
       "    </tr>\n",
       "    <tr>\n",
       "      <td>1</td>\n",
       "      <td>NYC Hip Hop vs. Reggae ® Yacht Party Cabana Ya...</td>\n",
       "      <td>Skyport Marina</td>\n",
       "      <td>2020-05-15</td>\n",
       "      <td>1</td>\n",
       "    </tr>\n",
       "    <tr>\n",
       "      <td>2</td>\n",
       "      <td>Virtual Friday: Roza Terenzi and Toni Yotzi</td>\n",
       "      <td>Nowadays</td>\n",
       "      <td>2020-05-15</td>\n",
       "      <td>302</td>\n",
       "    </tr>\n",
       "    <tr>\n",
       "      <td>3</td>\n",
       "      <td>[POSTPONED] Tale Of Us</td>\n",
       "      <td>Knockdown Center</td>\n",
       "      <td>2020-05-16</td>\n",
       "      <td>31</td>\n",
       "    </tr>\n",
       "    <tr>\n",
       "      <td>4</td>\n",
       "      <td>[POSTPONED] Derrick Carter, DJ Sneak, Mark Farina</td>\n",
       "      <td>Webster Hall</td>\n",
       "      <td>2020-05-16</td>\n",
       "      <td>1</td>\n",
       "    </tr>\n",
       "    <tr>\n",
       "      <td>5</td>\n",
       "      <td>LPR Presents: Netherfriends</td>\n",
       "      <td>The Broadway</td>\n",
       "      <td>2020-05-16</td>\n",
       "      <td>107</td>\n",
       "    </tr>\n",
       "    <tr>\n",
       "      <td>6</td>\n",
       "      <td>Virtual Saturday: Juliana Huxtable and Lydo</td>\n",
       "      <td>Nowadays</td>\n",
       "      <td>2020-05-16</td>\n",
       "      <td>70</td>\n",
       "    </tr>\n",
       "    <tr>\n",
       "      <td>7</td>\n",
       "      <td>O/NDA + Digital Discoteca</td>\n",
       "      <td>Zoom Party Live</td>\n",
       "      <td>2020-05-16</td>\n",
       "      <td>5</td>\n",
       "    </tr>\n",
       "    <tr>\n",
       "      <td>8</td>\n",
       "      <td>Gotta Have House Hits Queens</td>\n",
       "      <td>Resorts World Casino</td>\n",
       "      <td>2020-05-17</td>\n",
       "      <td>110</td>\n",
       "    </tr>\n",
       "    <tr>\n",
       "      <td>9</td>\n",
       "      <td>[POSTPONED] Teksupport: Sven Väth (All Night L...</td>\n",
       "      <td>The 1896</td>\n",
       "      <td>None</td>\n",
       "      <td>None</td>\n",
       "    </tr>\n",
       "    <tr>\n",
       "      <td>10</td>\n",
       "      <td>Higher Level: Richie Hawtin, Charlotte de Witt...</td>\n",
       "      <td>Avant Gardner</td>\n",
       "      <td>None</td>\n",
       "      <td>None</td>\n",
       "    </tr>\n",
       "    <tr>\n",
       "      <td>11</td>\n",
       "      <td>[CANCELLED] Elevation: Season Closing Party</td>\n",
       "      <td>House Of Yes</td>\n",
       "      <td>None</td>\n",
       "      <td>None</td>\n",
       "    </tr>\n",
       "    <tr>\n",
       "      <td>12</td>\n",
       "      <td>Virtual Sunday: Sweat Equity all Night</td>\n",
       "      <td>Nowadays</td>\n",
       "      <td>None</td>\n",
       "      <td>None</td>\n",
       "    </tr>\n",
       "    <tr>\n",
       "      <td>13</td>\n",
       "      <td>Boris Brejcha - Postponed</td>\n",
       "      <td>Brooklyn Mirage</td>\n",
       "      <td>None</td>\n",
       "      <td>None</td>\n",
       "    </tr>\n",
       "    <tr>\n",
       "      <td>14</td>\n",
       "      <td>Virtual Sunday: Sweat Equity all Night</td>\n",
       "      <td>Nowadays</td>\n",
       "      <td>None</td>\n",
       "      <td>None</td>\n",
       "    </tr>\n",
       "    <tr>\n",
       "      <td>15</td>\n",
       "      <td>Disorient presents: Country Club X: Astrodynamica</td>\n",
       "      <td>TBA - New York</td>\n",
       "      <td>None</td>\n",
       "      <td>None</td>\n",
       "    </tr>\n",
       "  </tbody>\n",
       "</table>\n",
       "</div>"
      ],
      "text/plain": [
       "                                           Event_Name                 Venue  \\\n",
       "0                                          Spacecraft        TBA - New York   \n",
       "1   NYC Hip Hop vs. Reggae ® Yacht Party Cabana Ya...        Skyport Marina   \n",
       "2         Virtual Friday: Roza Terenzi and Toni Yotzi              Nowadays   \n",
       "3                              [POSTPONED] Tale Of Us      Knockdown Center   \n",
       "4   [POSTPONED] Derrick Carter, DJ Sneak, Mark Farina          Webster Hall   \n",
       "5                         LPR Presents: Netherfriends          The Broadway   \n",
       "6         Virtual Saturday: Juliana Huxtable and Lydo              Nowadays   \n",
       "7                           O/NDA + Digital Discoteca       Zoom Party Live   \n",
       "8                        Gotta Have House Hits Queens  Resorts World Casino   \n",
       "9   [POSTPONED] Teksupport: Sven Väth (All Night L...              The 1896   \n",
       "10  Higher Level: Richie Hawtin, Charlotte de Witt...         Avant Gardner   \n",
       "11        [CANCELLED] Elevation: Season Closing Party          House Of Yes   \n",
       "12             Virtual Sunday: Sweat Equity all Night              Nowadays   \n",
       "13                          Boris Brejcha - Postponed       Brooklyn Mirage   \n",
       "14             Virtual Sunday: Sweat Equity all Night              Nowadays   \n",
       "15  Disorient presents: Country Club X: Astrodynamica        TBA - New York   \n",
       "\n",
       "    Event_Date Number_of_Attendees  \n",
       "0   2020-05-15                   2  \n",
       "1   2020-05-15                   1  \n",
       "2   2020-05-15                 302  \n",
       "3   2020-05-16                  31  \n",
       "4   2020-05-16                   1  \n",
       "5   2020-05-16                 107  \n",
       "6   2020-05-16                  70  \n",
       "7   2020-05-16                   5  \n",
       "8   2020-05-17                 110  \n",
       "9         None                None  \n",
       "10        None                None  \n",
       "11        None                None  \n",
       "12        None                None  \n",
       "13        None                None  \n",
       "14        None                None  \n",
       "15        None                None  "
      ]
     },
     "execution_count": 145,
     "metadata": {},
     "output_type": "execute_result"
    }
   ],
   "source": [
    "scrape_events('https://www.residentadvisor.net/events/us/newyork')"
   ]
  },
  {
   "cell_type": "markdown",
   "metadata": {},
   "source": [
    "Soulution way:"
   ]
  },
  {
   "cell_type": "code",
   "execution_count": 148,
   "metadata": {},
   "outputs": [],
   "source": [
    "event_listings = soup.find('div', id=\"event-listing\")\n",
    "def scrape_events3(events_page_url):\n",
    "    #Your code here\n",
    "    response = requests.get(events_page_url)\n",
    "    soup = BeautifulSoup(response.content, 'html.parser')\n",
    "    entries = event_listings.findAll('li')\n",
    "    rows = []\n",
    "    for entry in entries:\n",
    "        #Is it a date? If so, set current date.\n",
    "        date = entry.find('p', class_=\"eventDate date\")\n",
    "        event = entry.find('h1', class_=\"event-title\")\n",
    "        if event:\n",
    "            details = event.text.split(' at ')\n",
    "            event_name = details[0].strip()\n",
    "            venue = details[1].strip()\n",
    "            try:\n",
    "                n_attendees = int(re.match(\"(\\d*)\", entry.find('p', class_=\"attending\").text)[0])\n",
    "            except:\n",
    "                n_attendees = np.nan\n",
    "            rows.append([event_name, venue, cur_date, n_attendees])\n",
    "        elif date:\n",
    "            cur_date = date.text\n",
    "        else:\n",
    "            continue\n",
    "    df = pd.DataFrame(rows)\n",
    "    df.head()\n",
    "    df.columns = [\"Event_Name\", \"Venue\", \"Event_Date\", \"Number_of_Attendees\"]\n",
    "    return df"
   ]
  },
  {
   "cell_type": "code",
   "execution_count": 149,
   "metadata": {},
   "outputs": [
    {
     "data": {
      "text/html": [
       "<div>\n",
       "<style scoped>\n",
       "    .dataframe tbody tr th:only-of-type {\n",
       "        vertical-align: middle;\n",
       "    }\n",
       "\n",
       "    .dataframe tbody tr th {\n",
       "        vertical-align: top;\n",
       "    }\n",
       "\n",
       "    .dataframe thead th {\n",
       "        text-align: right;\n",
       "    }\n",
       "</style>\n",
       "<table border=\"1\" class=\"dataframe\">\n",
       "  <thead>\n",
       "    <tr style=\"text-align: right;\">\n",
       "      <th></th>\n",
       "      <th>Event_Name</th>\n",
       "      <th>Venue</th>\n",
       "      <th>Event_Date</th>\n",
       "      <th>Number_of_Attendees</th>\n",
       "    </tr>\n",
       "  </thead>\n",
       "  <tbody>\n",
       "    <tr>\n",
       "      <td>0</td>\n",
       "      <td>Spacecraft</td>\n",
       "      <td>TBA - New York</td>\n",
       "      <td>Fri, 15 May 2020 /</td>\n",
       "      <td>2</td>\n",
       "    </tr>\n",
       "    <tr>\n",
       "      <td>1</td>\n",
       "      <td>NYC Hip Hop vs. Reggae ® Yacht Party Cabana Ya...</td>\n",
       "      <td>Skyport Marina</td>\n",
       "      <td>Fri, 15 May 2020 /</td>\n",
       "      <td>1</td>\n",
       "    </tr>\n",
       "    <tr>\n",
       "      <td>2</td>\n",
       "      <td>Virtual Friday: Roza Terenzi and Toni Yotzi</td>\n",
       "      <td>Nowadays</td>\n",
       "      <td>Fri, 15 May 2020 /</td>\n",
       "      <td>2</td>\n",
       "    </tr>\n",
       "    <tr>\n",
       "      <td>3</td>\n",
       "      <td>[POSTPONED] Tale Of Us</td>\n",
       "      <td>Knockdown Center</td>\n",
       "      <td>Fri, 15 May 2020 /</td>\n",
       "      <td>302</td>\n",
       "    </tr>\n",
       "    <tr>\n",
       "      <td>4</td>\n",
       "      <td>[POSTPONED] Derrick Carter, DJ Sneak, Mark Farina</td>\n",
       "      <td>Webster Hall</td>\n",
       "      <td>Sat, 16 May 2020 /</td>\n",
       "      <td>31</td>\n",
       "    </tr>\n",
       "    <tr>\n",
       "      <td>5</td>\n",
       "      <td>LPR Presents: Netherfriends</td>\n",
       "      <td>The Broadway</td>\n",
       "      <td>Sat, 16 May 2020 /</td>\n",
       "      <td>1</td>\n",
       "    </tr>\n",
       "    <tr>\n",
       "      <td>6</td>\n",
       "      <td>Virtual Saturday: Juliana Huxtable and Lydo</td>\n",
       "      <td>Nowadays</td>\n",
       "      <td>Sat, 16 May 2020 /</td>\n",
       "      <td>4</td>\n",
       "    </tr>\n",
       "    <tr>\n",
       "      <td>7</td>\n",
       "      <td>O/NDA + Digital Discoteca</td>\n",
       "      <td>Zoom Party Live</td>\n",
       "      <td>Sat, 16 May 2020 /</td>\n",
       "      <td>3</td>\n",
       "    </tr>\n",
       "    <tr>\n",
       "      <td>8</td>\n",
       "      <td>Gotta Have House Hits Queens</td>\n",
       "      <td>Resorts World Casino</td>\n",
       "      <td>Sat, 16 May 2020 /</td>\n",
       "      <td>2</td>\n",
       "    </tr>\n",
       "    <tr>\n",
       "      <td>9</td>\n",
       "      <td>[POSTPONED] Teksupport: Sven Väth (All Night L...</td>\n",
       "      <td>The 1896</td>\n",
       "      <td>Sat, 16 May 2020 /</td>\n",
       "      <td>107</td>\n",
       "    </tr>\n",
       "    <tr>\n",
       "      <td>10</td>\n",
       "      <td>Higher Level: Richie Hawtin, Charlotte de Witt...</td>\n",
       "      <td>Avant Gardner</td>\n",
       "      <td>Sat, 16 May 2020 /</td>\n",
       "      <td>70</td>\n",
       "    </tr>\n",
       "    <tr>\n",
       "      <td>11</td>\n",
       "      <td>[CANCELLED] Elevation: Season Closing Party</td>\n",
       "      <td>House Of Yes</td>\n",
       "      <td>Sat, 16 May 2020 /</td>\n",
       "      <td>5</td>\n",
       "    </tr>\n",
       "    <tr>\n",
       "      <td>12</td>\n",
       "      <td>Virtual Sunday: Sweat Equity all Night</td>\n",
       "      <td>Nowadays</td>\n",
       "      <td>Sun, 17 May 2020 /</td>\n",
       "      <td>1</td>\n",
       "    </tr>\n",
       "    <tr>\n",
       "      <td>13</td>\n",
       "      <td>Boris Brejcha - Postponed</td>\n",
       "      <td>Brooklyn Mirage</td>\n",
       "      <td>Sun, 17 May 2020 /</td>\n",
       "      <td>110</td>\n",
       "    </tr>\n",
       "    <tr>\n",
       "      <td>14</td>\n",
       "      <td>Virtual Sunday: Sweat Equity all Night</td>\n",
       "      <td>Nowadays</td>\n",
       "      <td>Mon, 18 May 2020 /</td>\n",
       "      <td>1</td>\n",
       "    </tr>\n",
       "    <tr>\n",
       "      <td>15</td>\n",
       "      <td>Disorient presents: Country Club X: Astrodynamica</td>\n",
       "      <td>TBA - New York</td>\n",
       "      <td>Thu, 21 May 2020 /</td>\n",
       "      <td>3</td>\n",
       "    </tr>\n",
       "  </tbody>\n",
       "</table>\n",
       "</div>"
      ],
      "text/plain": [
       "                                           Event_Name                 Venue  \\\n",
       "0                                          Spacecraft        TBA - New York   \n",
       "1   NYC Hip Hop vs. Reggae ® Yacht Party Cabana Ya...        Skyport Marina   \n",
       "2         Virtual Friday: Roza Terenzi and Toni Yotzi              Nowadays   \n",
       "3                              [POSTPONED] Tale Of Us      Knockdown Center   \n",
       "4   [POSTPONED] Derrick Carter, DJ Sneak, Mark Farina          Webster Hall   \n",
       "5                         LPR Presents: Netherfriends          The Broadway   \n",
       "6         Virtual Saturday: Juliana Huxtable and Lydo              Nowadays   \n",
       "7                           O/NDA + Digital Discoteca       Zoom Party Live   \n",
       "8                        Gotta Have House Hits Queens  Resorts World Casino   \n",
       "9   [POSTPONED] Teksupport: Sven Väth (All Night L...              The 1896   \n",
       "10  Higher Level: Richie Hawtin, Charlotte de Witt...         Avant Gardner   \n",
       "11        [CANCELLED] Elevation: Season Closing Party          House Of Yes   \n",
       "12             Virtual Sunday: Sweat Equity all Night              Nowadays   \n",
       "13                          Boris Brejcha - Postponed       Brooklyn Mirage   \n",
       "14             Virtual Sunday: Sweat Equity all Night              Nowadays   \n",
       "15  Disorient presents: Country Club X: Astrodynamica        TBA - New York   \n",
       "\n",
       "            Event_Date  Number_of_Attendees  \n",
       "0   Fri, 15 May 2020 /                    2  \n",
       "1   Fri, 15 May 2020 /                    1  \n",
       "2   Fri, 15 May 2020 /                    2  \n",
       "3   Fri, 15 May 2020 /                  302  \n",
       "4   Sat, 16 May 2020 /                   31  \n",
       "5   Sat, 16 May 2020 /                    1  \n",
       "6   Sat, 16 May 2020 /                    4  \n",
       "7   Sat, 16 May 2020 /                    3  \n",
       "8   Sat, 16 May 2020 /                    2  \n",
       "9   Sat, 16 May 2020 /                  107  \n",
       "10  Sat, 16 May 2020 /                   70  \n",
       "11  Sat, 16 May 2020 /                    5  \n",
       "12  Sun, 17 May 2020 /                    1  \n",
       "13  Sun, 17 May 2020 /                  110  \n",
       "14  Mon, 18 May 2020 /                    1  \n",
       "15  Thu, 21 May 2020 /                    3  "
      ]
     },
     "execution_count": 149,
     "metadata": {},
     "output_type": "execute_result"
    }
   ],
   "source": [
    "scrape_events3('https://www.residentadvisor.net/events/us/newyork')"
   ]
  },
  {
   "cell_type": "markdown",
   "metadata": {},
   "source": [
    "## Write a Function to Retrieve the URL for the Next Page"
   ]
  },
  {
   "cell_type": "code",
   "execution_count": null,
   "metadata": {},
   "outputs": [],
   "source": [
    "def next_page(url):\n",
    "    #Your code here\n",
    "    return next_page_url"
   ]
  },
  {
   "cell_type": "markdown",
   "metadata": {},
   "source": [
    "## Scrape the Next 1000 Events for Your Area\n",
    "\n",
    "Display the data sorted by the number of attendees. If there is a tie for the number attending, sort by event date."
   ]
  },
  {
   "cell_type": "code",
   "execution_count": null,
   "metadata": {},
   "outputs": [],
   "source": [
    "#Your code here"
   ]
  },
  {
   "cell_type": "markdown",
   "metadata": {},
   "source": [
    "## Summary \n",
    "\n",
    "Congratulations! In this lab, you successfully developed a pipeline to scrape a website for concert event information!"
   ]
  }
 ],
 "metadata": {
  "kernelspec": {
   "display_name": "learn-env",
   "language": "python",
   "name": "learn-env"
  },
  "language_info": {
   "codemirror_mode": {
    "name": "ipython",
    "version": 3
   },
   "file_extension": ".py",
   "mimetype": "text/x-python",
   "name": "python",
   "nbconvert_exporter": "python",
   "pygments_lexer": "ipython3",
   "version": "3.6.9"
  }
 },
 "nbformat": 4,
 "nbformat_minor": 2
}
